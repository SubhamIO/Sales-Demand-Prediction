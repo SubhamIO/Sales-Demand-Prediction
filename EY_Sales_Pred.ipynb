{
 "cells": [
  {
   "cell_type": "markdown",
   "metadata": {},
   "source": [
    "- __Name : Subham Sarkar__\n",
    "- __Github : https://github.com/SubhamIO__\n",
    "- __LinkedIn : https://www.linkedin.com/in/subham-sarkar-4224aa147/__"
   ]
  },
  {
   "cell_type": "markdown",
   "metadata": {},
   "source": [
    "## Problem Statement\n",
    "- Predict the sales demand for consumer goods."
   ]
  },
  {
   "cell_type": "markdown",
   "metadata": {},
   "source": [
    "## Objective"
   ]
  },
  {
   "cell_type": "markdown",
   "metadata": {},
   "source": [
    "- The objective of this exercise is to predict sales of 2018-42 to 2018-52 of each SKU. The data present in the mentioned week are only for computation of accuracy and bias only. So please use the sales data till 2018-41."
   ]
  },
  {
   "cell_type": "markdown",
   "metadata": {},
   "source": [
    "## Steps recommended :\n",
    "__The following pre-processing treatment needs to be done if needed:__\n",
    "1. Initial zero removal:\n",
    "   There are some SKU’s for which initial week sales are 0.it means sales was not started after that period. Those weeks needs to be removed before fitting the data into the model.\n",
    "2. Duplicate treatment\n",
    "3. Outlier treatment\n"
   ]
  },
  {
   "cell_type": "markdown",
   "metadata": {},
   "source": [
    "## Files and Folders details:\n",
    "1. __app1.py__   -  This file contains all the helper functions. All the functions for automation is present here,\n",
    "2. __EY_Sales_Pred.ipynb__   - This file uses the app1.py to perform automation.\n",
    "3. __saved_models__ -  This folder contains trained_models\n",
    "4. __upload-aiml-automation__   - This folder contains the prediction.csv or the output file."
   ]
  },
  {
   "cell_type": "markdown",
   "metadata": {},
   "source": [
    "## Loading Dependencies"
   ]
  },
  {
   "cell_type": "code",
   "execution_count": 1,
   "metadata": {},
   "outputs": [
    {
     "name": "stderr",
     "output_type": "stream",
     "text": [
      "Using TensorFlow backend.\n"
     ]
    }
   ],
   "source": [
    "%matplotlib inline\n",
    "import warnings\n",
    "warnings.filterwarnings(\"ignore\")\n",
    "\n",
    "import pandas as pd\n",
    "import matplotlib.pyplot as plt\n",
    "import re\n",
    "import time\n",
    "import warnings\n",
    "import numpy as np\n",
    "import seaborn as sns\n",
    "from collections import Counter, defaultdict\n",
    "from nltk.corpus import stopwords\n",
    "from sklearn.decomposition import TruncatedSVD\n",
    "from sklearn.preprocessing import normalize\n",
    "from sklearn.feature_extraction.text import TfidfVectorizer, CountVectorizer\n",
    "from sklearn.manifold import TSNE\n",
    "from sklearn.neighbors import KNeighborsClassifier\n",
    "from sklearn.metrics import confusion_matrix, normalized_mutual_info_score\n",
    "from sklearn.metrics.classification import accuracy_score, log_loss\n",
    "from sklearn.feature_extraction.text import TfidfVectorizer\n",
    "from sklearn.linear_model import SGDClassifier\n",
    "from imblearn.over_sampling import SMOTE\n",
    "from collections import Counter\n",
    "from scipy.sparse import hstack\n",
    "from sklearn.multiclass import OneVsRestClassifier\n",
    "from sklearn.svm import SVC\n",
    "\n",
    "from sklearn.calibration import CalibratedClassifierCV\n",
    "from sklearn.naive_bayes import MultinomialNB, GaussianNB\n",
    "from sklearn.model_selection import train_test_split, GridSearchCV, StratifiedKFold\n",
    "\n",
    "import math\n",
    "from sklearn.ensemble import RandomForestClassifier\n",
    "warnings.filterwarnings(\"ignore\")\n",
    "\n",
    "\n",
    "from sklearn import model_selection\n",
    "from sklearn.linear_model import LogisticRegression\n",
    "import os\n",
    "\n",
    "\n",
    "\n",
    "import pandas as pd\n",
    "import numpy as np\n",
    "import ipywidgets as wg \n",
    "from IPython.display import display\n",
    "from ipywidgets import Layout\n",
    "from sklearn.base import BaseEstimator , TransformerMixin\n",
    "from sklearn.preprocessing import StandardScaler\n",
    "from sklearn.preprocessing import MinMaxScaler\n",
    "from sklearn.preprocessing import RobustScaler\n",
    "from sklearn.preprocessing import MaxAbsScaler\n",
    "from sklearn.preprocessing import PowerTransformer\n",
    "from sklearn.preprocessing import QuantileTransformer\n",
    "from sklearn.preprocessing import OneHotEncoder\n",
    "from sklearn.preprocessing import OrdinalEncoder\n",
    "from sklearn.decomposition import PCA\n",
    "from sklearn.decomposition import KernelPCA\n",
    "from sklearn.cross_decomposition import PLSRegression\n",
    "from sklearn.manifold import TSNE\n",
    "from sklearn.decomposition import IncrementalPCA\n",
    "from sklearn.preprocessing import KBinsDiscretizer\n",
    "from pyod.models.knn import KNN\n",
    "from pyod.models.iforest import IForest\n",
    "from pyod.models.pca import PCA as PCA_od\n",
    "from sklearn import cluster\n",
    "from scipy import stats\n",
    "from sklearn.ensemble import RandomForestClassifier as rfc\n",
    "from sklearn.ensemble import RandomForestRegressor as rfr\n",
    "\n",
    "import sys \n",
    "from sklearn.pipeline import Pipeline\n",
    "from sklearn import metrics\n",
    "from datetime import datetime\n",
    "import calendar\n",
    "from sklearn.preprocessing import LabelEncoder\n",
    "from collections import defaultdict\n",
    "\n",
    "\n",
    "from nltk.corpus import stopwords\n",
    "\n",
    "stop_words = set(stopwords.words('english'))"
   ]
  },
  {
   "cell_type": "code",
   "execution_count": 2,
   "metadata": {},
   "outputs": [],
   "source": [
    "# Loading helper functions\n",
    "from app1 import *"
   ]
  },
  {
   "cell_type": "code",
   "execution_count": 3,
   "metadata": {},
   "outputs": [
    {
     "name": "stdout",
     "output_type": "stream",
     "text": [
      "date and time = 06112020104937\n"
     ]
    }
   ],
   "source": [
    "from datetime import datetime\n",
    "\n",
    "# datetime object containing current date and time\n",
    "now = datetime.now()\n",
    "\n",
    "# dd/mm/YY H:M:S\n",
    "dt_string = now.strftime(\"%d%m%Y%H%M%S\")\n",
    "print(\"date and time =\", dt_string)"
   ]
  },
  {
   "cell_type": "code",
   "execution_count": 4,
   "metadata": {},
   "outputs": [
    {
     "name": "stderr",
     "output_type": "stream",
     "text": [
      "[nltk_data] Downloading package stopwords to\n",
      "[nltk_data]     /Users/subham/nltk_data...\n",
      "[nltk_data]   Package stopwords is already up-to-date!\n"
     ]
    },
    {
     "data": {
      "text/plain": [
       "True"
      ]
     },
     "execution_count": 4,
     "metadata": {},
     "output_type": "execute_result"
    }
   ],
   "source": [
    "import nltk\n",
    "nltk.download('stopwords')"
   ]
  },
  {
   "cell_type": "markdown",
   "metadata": {},
   "source": [
    "## Loading Data"
   ]
  },
  {
   "cell_type": "code",
   "execution_count": 4,
   "metadata": {},
   "outputs": [],
   "source": [
    "data = pd.read_excel('case_study.xlsx')"
   ]
  },
  {
   "cell_type": "code",
   "execution_count": 5,
   "metadata": {},
   "outputs": [
    {
     "data": {
      "text/html": [
       "<div>\n",
       "<style scoped>\n",
       "    .dataframe tbody tr th:only-of-type {\n",
       "        vertical-align: middle;\n",
       "    }\n",
       "\n",
       "    .dataframe tbody tr th {\n",
       "        vertical-align: top;\n",
       "    }\n",
       "\n",
       "    .dataframe thead th {\n",
       "        text-align: right;\n",
       "    }\n",
       "</style>\n",
       "<table border=\"1\" class=\"dataframe\">\n",
       "  <thead>\n",
       "    <tr style=\"text-align: right;\">\n",
       "      <th></th>\n",
       "      <th>SKU</th>\n",
       "      <th>ISO_Week</th>\n",
       "      <th>Sales</th>\n",
       "      <th>Season</th>\n",
       "    </tr>\n",
       "  </thead>\n",
       "  <tbody>\n",
       "    <tr>\n",
       "      <th>0</th>\n",
       "      <td>ProductA</td>\n",
       "      <td>2018-01</td>\n",
       "      <td>0.0</td>\n",
       "      <td>WINTER</td>\n",
       "    </tr>\n",
       "    <tr>\n",
       "      <th>1</th>\n",
       "      <td>ProductA</td>\n",
       "      <td>2018-02</td>\n",
       "      <td>0.0</td>\n",
       "      <td>WINTER</td>\n",
       "    </tr>\n",
       "    <tr>\n",
       "      <th>2</th>\n",
       "      <td>ProductA</td>\n",
       "      <td>2018-03</td>\n",
       "      <td>0.0</td>\n",
       "      <td>WINTER</td>\n",
       "    </tr>\n",
       "    <tr>\n",
       "      <th>3</th>\n",
       "      <td>ProductA</td>\n",
       "      <td>2018-04</td>\n",
       "      <td>6988.0</td>\n",
       "      <td>WINTER</td>\n",
       "    </tr>\n",
       "    <tr>\n",
       "      <th>4</th>\n",
       "      <td>ProductA</td>\n",
       "      <td>2018-04</td>\n",
       "      <td>6988.0</td>\n",
       "      <td>WINTER</td>\n",
       "    </tr>\n",
       "  </tbody>\n",
       "</table>\n",
       "</div>"
      ],
      "text/plain": [
       "        SKU ISO_Week   Sales  Season\n",
       "0  ProductA  2018-01     0.0  WINTER\n",
       "1  ProductA  2018-02     0.0  WINTER\n",
       "2  ProductA  2018-03     0.0  WINTER\n",
       "3  ProductA  2018-04  6988.0  WINTER\n",
       "4  ProductA  2018-04  6988.0  WINTER"
      ]
     },
     "execution_count": 5,
     "metadata": {},
     "output_type": "execute_result"
    }
   ],
   "source": [
    "data.head()"
   ]
  },
  {
   "cell_type": "code",
   "execution_count": 6,
   "metadata": {},
   "outputs": [
    {
     "data": {
      "text/plain": [
       "(150, 4)"
      ]
     },
     "execution_count": 6,
     "metadata": {},
     "output_type": "execute_result"
    }
   ],
   "source": [
    "data.shape"
   ]
  },
  {
   "cell_type": "markdown",
   "metadata": {},
   "source": [
    "## Initial Zeroes removal\n",
    "- There are some SKU’s for which initial week sales are 0.it means sales was not started after that period. Those weeks needs to be removed before fitting the data into the model."
   ]
  },
  {
   "cell_type": "code",
   "execution_count": 7,
   "metadata": {},
   "outputs": [],
   "source": [
    "data = data[data['Sales'] != 0]"
   ]
  },
  {
   "cell_type": "code",
   "execution_count": 8,
   "metadata": {},
   "outputs": [
    {
     "data": {
      "text/plain": [
       "(130, 4)"
      ]
     },
     "execution_count": 8,
     "metadata": {},
     "output_type": "execute_result"
    }
   ],
   "source": [
    "data.shape"
   ]
  },
  {
   "cell_type": "markdown",
   "metadata": {},
   "source": [
    "## Exploratory Data Analysis"
   ]
  },
  {
   "cell_type": "markdown",
   "metadata": {},
   "source": [
    "### Checking for nulls"
   ]
  },
  {
   "cell_type": "code",
   "execution_count": 9,
   "metadata": {},
   "outputs": [
    {
     "name": "stdout",
     "output_type": "stream",
     "text": [
      "<class 'pandas.core.frame.DataFrame'>\n",
      "Int64Index: 130 entries, 3 to 149\n",
      "Data columns (total 4 columns):\n",
      " #   Column    Non-Null Count  Dtype  \n",
      "---  ------    --------------  -----  \n",
      " 0   SKU       130 non-null    object \n",
      " 1   ISO_Week  130 non-null    object \n",
      " 2   Sales     123 non-null    float64\n",
      " 3   Season    130 non-null    object \n",
      "dtypes: float64(1), object(3)\n",
      "memory usage: 5.1+ KB\n"
     ]
    }
   ],
   "source": [
    "data.info()"
   ]
  },
  {
   "cell_type": "code",
   "execution_count": 10,
   "metadata": {},
   "outputs": [
    {
     "data": {
      "text/plain": [
       "SKU         0\n",
       "ISO_Week    0\n",
       "Sales       7\n",
       "Season      0\n",
       "dtype: int64"
      ]
     },
     "execution_count": 10,
     "metadata": {},
     "output_type": "execute_result"
    }
   ],
   "source": [
    "data.isnull().sum()"
   ]
  },
  {
   "cell_type": "markdown",
   "metadata": {},
   "source": [
    "- __Sales__ columns(__target__) has 7 null data points\n",
    "- __Better to remove the rows corresponding to the missing values in target data__ --> This is handled in preprocessing part(automated)"
   ]
  },
  {
   "cell_type": "markdown",
   "metadata": {},
   "source": [
    "## Checking frequencies for entire data"
   ]
  },
  {
   "cell_type": "code",
   "execution_count": 11,
   "metadata": {},
   "outputs": [
    {
     "name": "stdout",
     "output_type": "stream",
     "text": [
      "ProductA    51\n",
      "ProductC    43\n",
      "ProductB    36\n",
      "Name: SKU, dtype: int64\n"
     ]
    },
    {
     "data": {
      "image/png": "[encoded data removed]",
      "text/plain": [
       "<Figure size 432x288 with 1 Axes>"
      ]
     },
     "metadata": {
      "needs_background": "light"
     },
     "output_type": "display_data"
    }
   ],
   "source": [
    "ax = sns.countplot(x=data['SKU'], data=data)\n",
    "print(data['SKU'].value_counts())"
   ]
  },
  {
   "cell_type": "code",
   "execution_count": 12,
   "metadata": {},
   "outputs": [
    {
     "name": "stdout",
     "output_type": "stream",
     "text": [
      "SPRING    35\n",
      "SUMMER    34\n",
      "AUTUMN    34\n",
      "WINTER    27\n",
      "Name: Season, dtype: int64\n"
     ]
    },
    {
     "data": {
      "image/png": "[encoded data removed]",
      "text/plain": [
       "<Figure size 432x288 with 1 Axes>"
      ]
     },
     "metadata": {
      "needs_background": "light"
     },
     "output_type": "display_data"
    }
   ],
   "source": [
    "ax = sns.countplot(x=data['Season'], data=data)\n",
    "print(data['Season'].value_counts())"
   ]
  },
  {
   "cell_type": "markdown",
   "metadata": {},
   "source": [
    "### Observation:\n",
    "1. Promotion going on for __SKU 'Product B'__ is lesser compared to that of __'Product A; and 'Product B'__\n",
    "2. Promotion in __WINTER__ is less. But for which __SKU__ ?"
   ]
  },
  {
   "cell_type": "markdown",
   "metadata": {},
   "source": [
    "## Let's check seasonwise product promotions"
   ]
  },
  {
   "cell_type": "code",
   "execution_count": 13,
   "metadata": {},
   "outputs": [],
   "source": [
    "### pivot_table for two categorical features one being loan_status\n",
    "def pivot(train,col): \n",
    "    return pd.pivot_table(train,'ISO_Week',index=[col],columns=['SKU'],aggfunc='count')"
   ]
  },
  {
   "cell_type": "code",
   "execution_count": 14,
   "metadata": {},
   "outputs": [
    {
     "data": {
      "text/html": [
       "<div>\n",
       "<style scoped>\n",
       "    .dataframe tbody tr th:only-of-type {\n",
       "        vertical-align: middle;\n",
       "    }\n",
       "\n",
       "    .dataframe tbody tr th {\n",
       "        vertical-align: top;\n",
       "    }\n",
       "\n",
       "    .dataframe thead th {\n",
       "        text-align: right;\n",
       "    }\n",
       "</style>\n",
       "<table border=\"1\" class=\"dataframe\">\n",
       "  <thead>\n",
       "    <tr style=\"text-align: right;\">\n",
       "      <th>SKU</th>\n",
       "      <th>ProductA</th>\n",
       "      <th>ProductB</th>\n",
       "      <th>ProductC</th>\n",
       "    </tr>\n",
       "    <tr>\n",
       "      <th>Season</th>\n",
       "      <th></th>\n",
       "      <th></th>\n",
       "      <th></th>\n",
       "    </tr>\n",
       "  </thead>\n",
       "  <tbody>\n",
       "    <tr>\n",
       "      <th>AUTUMN</th>\n",
       "      <td>13</td>\n",
       "      <td>8</td>\n",
       "      <td>13</td>\n",
       "    </tr>\n",
       "    <tr>\n",
       "      <th>SPRING</th>\n",
       "      <td>15</td>\n",
       "      <td>7</td>\n",
       "      <td>13</td>\n",
       "    </tr>\n",
       "    <tr>\n",
       "      <th>SUMMER</th>\n",
       "      <td>13</td>\n",
       "      <td>8</td>\n",
       "      <td>13</td>\n",
       "    </tr>\n",
       "    <tr>\n",
       "      <th>WINTER</th>\n",
       "      <td>10</td>\n",
       "      <td>13</td>\n",
       "      <td>4</td>\n",
       "    </tr>\n",
       "  </tbody>\n",
       "</table>\n",
       "</div>"
      ],
      "text/plain": [
       "SKU     ProductA  ProductB  ProductC\n",
       "Season                              \n",
       "AUTUMN        13         8        13\n",
       "SPRING        15         7        13\n",
       "SUMMER        13         8        13\n",
       "WINTER        10        13         4"
      ]
     },
     "execution_count": 14,
     "metadata": {},
     "output_type": "execute_result"
    }
   ],
   "source": [
    "pivot(data,'Season')"
   ]
  },
  {
   "cell_type": "markdown",
   "metadata": {},
   "source": [
    "### Observation:\n",
    "- We earlier saw that promotion in WINTER is less but for which product.\n",
    "- It is for __Product C.__ . Promotions for '__Product C__' in WINTER is less. "
   ]
  },
  {
   "cell_type": "markdown",
   "metadata": {},
   "source": [
    "## Train_Test Split\n",
    "- Done using the criteria given"
   ]
  },
  {
   "cell_type": "code",
   "execution_count": 15,
   "metadata": {},
   "outputs": [
    {
     "data": {
      "text/plain": [
       "(100, 4)"
      ]
     },
     "execution_count": 15,
     "metadata": {},
     "output_type": "execute_result"
    }
   ],
   "source": [
    "end_date = \"2018-41\"\n",
    "after_end_date = data[\"ISO_Week\"] <= end_date\n",
    "train_data = data.loc[after_end_date]\n",
    "train_data.shape"
   ]
  },
  {
   "cell_type": "code",
   "execution_count": 16,
   "metadata": {},
   "outputs": [
    {
     "data": {
      "text/plain": [
       "(30, 4)"
      ]
     },
     "execution_count": 16,
     "metadata": {},
     "output_type": "execute_result"
    }
   ],
   "source": [
    "start_date = \"2018-42\"\n",
    "after_start_date = data[\"ISO_Week\"] >= start_date\n",
    "test_data = data.loc[after_start_date]\n",
    "test_data.shape"
   ]
  },
  {
   "cell_type": "code",
   "execution_count": 17,
   "metadata": {},
   "outputs": [],
   "source": [
    "# This will be later used to frame a Dataframe end result\n",
    "iso_week = list(test_data['ISO_Week'])\n",
    "skus = list(test_data['SKU'])"
   ]
  },
  {
   "cell_type": "code",
   "execution_count": 18,
   "metadata": {},
   "outputs": [
    {
     "data": {
      "text/plain": [
       "(30, 30)"
      ]
     },
     "execution_count": 18,
     "metadata": {},
     "output_type": "execute_result"
    }
   ],
   "source": [
    "len(iso_week),len(skus)"
   ]
  },
  {
   "cell_type": "markdown",
   "metadata": {},
   "source": [
    "## Let's check some information for train and test data"
   ]
  },
  {
   "cell_type": "markdown",
   "metadata": {},
   "source": [
    "# Train Data"
   ]
  },
  {
   "cell_type": "code",
   "execution_count": 19,
   "metadata": {},
   "outputs": [
    {
     "name": "stdout",
     "output_type": "stream",
     "text": [
      "ProductA    40\n",
      "ProductC    32\n",
      "ProductB    28\n",
      "Name: SKU, dtype: int64\n"
     ]
    },
    {
     "data": {
      "image/png": "[encoded data removed]",
      "text/plain": [
       "<Figure size 432x288 with 1 Axes>"
      ]
     },
     "metadata": {
      "needs_background": "light"
     },
     "output_type": "display_data"
    }
   ],
   "source": [
    "ax = sns.countplot(x=train_data['SKU'], data=train_data)\n",
    "print(train_data['SKU'].value_counts())"
   ]
  },
  {
   "cell_type": "code",
   "execution_count": 20,
   "metadata": {},
   "outputs": [
    {
     "name": "stdout",
     "output_type": "stream",
     "text": [
      "SPRING    35\n",
      "SUMMER    34\n",
      "AUTUMN    16\n",
      "WINTER    15\n",
      "Name: Season, dtype: int64\n"
     ]
    },
    {
     "data": {
      "image/png": "[encoded data removed]",
      "text/plain": [
       "<Figure size 432x288 with 1 Axes>"
      ]
     },
     "metadata": {
      "needs_background": "light"
     },
     "output_type": "display_data"
    }
   ],
   "source": [
    "ax = sns.countplot(x=train_data['Season'], data=train_data)\n",
    "print(train_data['Season'].value_counts())"
   ]
  },
  {
   "cell_type": "code",
   "execution_count": 21,
   "metadata": {},
   "outputs": [
    {
     "data": {
      "text/html": [
       "<div>\n",
       "<style scoped>\n",
       "    .dataframe tbody tr th:only-of-type {\n",
       "        vertical-align: middle;\n",
       "    }\n",
       "\n",
       "    .dataframe tbody tr th {\n",
       "        vertical-align: top;\n",
       "    }\n",
       "\n",
       "    .dataframe thead th {\n",
       "        text-align: right;\n",
       "    }\n",
       "</style>\n",
       "<table border=\"1\" class=\"dataframe\">\n",
       "  <thead>\n",
       "    <tr style=\"text-align: right;\">\n",
       "      <th>SKU</th>\n",
       "      <th>ProductA</th>\n",
       "      <th>ProductB</th>\n",
       "      <th>ProductC</th>\n",
       "    </tr>\n",
       "    <tr>\n",
       "      <th>Season</th>\n",
       "      <th></th>\n",
       "      <th></th>\n",
       "      <th></th>\n",
       "    </tr>\n",
       "  </thead>\n",
       "  <tbody>\n",
       "    <tr>\n",
       "      <th>AUTUMN</th>\n",
       "      <td>6.0</td>\n",
       "      <td>4.0</td>\n",
       "      <td>6.0</td>\n",
       "    </tr>\n",
       "    <tr>\n",
       "      <th>SPRING</th>\n",
       "      <td>15.0</td>\n",
       "      <td>7.0</td>\n",
       "      <td>13.0</td>\n",
       "    </tr>\n",
       "    <tr>\n",
       "      <th>SUMMER</th>\n",
       "      <td>13.0</td>\n",
       "      <td>8.0</td>\n",
       "      <td>13.0</td>\n",
       "    </tr>\n",
       "    <tr>\n",
       "      <th>WINTER</th>\n",
       "      <td>6.0</td>\n",
       "      <td>9.0</td>\n",
       "      <td>NaN</td>\n",
       "    </tr>\n",
       "  </tbody>\n",
       "</table>\n",
       "</div>"
      ],
      "text/plain": [
       "SKU     ProductA  ProductB  ProductC\n",
       "Season                              \n",
       "AUTUMN       6.0       4.0       6.0\n",
       "SPRING      15.0       7.0      13.0\n",
       "SUMMER      13.0       8.0      13.0\n",
       "WINTER       6.0       9.0       NaN"
      ]
     },
     "execution_count": 21,
     "metadata": {},
     "output_type": "execute_result"
    }
   ],
   "source": [
    "pivot(train_data,'Season')"
   ]
  },
  {
   "cell_type": "markdown",
   "metadata": {},
   "source": [
    "### Observation:\n",
    "1. Promotion in WINTER and AUTUMN is lesser than SPRING and SUMMER\n",
    "2. Only 'Product A' and 'Product B' are contributing to WINTER values."
   ]
  },
  {
   "cell_type": "markdown",
   "metadata": {},
   "source": [
    "# Test Data"
   ]
  },
  {
   "cell_type": "code",
   "execution_count": 22,
   "metadata": {},
   "outputs": [
    {
     "name": "stdout",
     "output_type": "stream",
     "text": [
      "ProductC    11\n",
      "ProductA    11\n",
      "ProductB     8\n",
      "Name: SKU, dtype: int64\n"
     ]
    },
    {
     "data": {
      "image/png": "[encoded data removed]",
      "text/plain": [
       "<Figure size 432x288 with 1 Axes>"
      ]
     },
     "metadata": {
      "needs_background": "light"
     },
     "output_type": "display_data"
    }
   ],
   "source": [
    "ax = sns.countplot(x=test_data['SKU'], data=test_data)\n",
    "print(test_data['SKU'].value_counts())"
   ]
  },
  {
   "cell_type": "code",
   "execution_count": 23,
   "metadata": {},
   "outputs": [
    {
     "name": "stdout",
     "output_type": "stream",
     "text": [
      "AUTUMN    18\n",
      "WINTER    12\n",
      "Name: Season, dtype: int64\n"
     ]
    },
    {
     "data": {
      "image/png": "[encoded data removed]",
      "text/plain": [
       "<Figure size 432x288 with 1 Axes>"
      ]
     },
     "metadata": {
      "needs_background": "light"
     },
     "output_type": "display_data"
    }
   ],
   "source": [
    "ax = sns.countplot(x=test_data['Season'], data=test_data)\n",
    "print(test_data['Season'].value_counts())"
   ]
  },
  {
   "cell_type": "code",
   "execution_count": 24,
   "metadata": {},
   "outputs": [
    {
     "data": {
      "text/html": [
       "<div>\n",
       "<style scoped>\n",
       "    .dataframe tbody tr th:only-of-type {\n",
       "        vertical-align: middle;\n",
       "    }\n",
       "\n",
       "    .dataframe tbody tr th {\n",
       "        vertical-align: top;\n",
       "    }\n",
       "\n",
       "    .dataframe thead th {\n",
       "        text-align: right;\n",
       "    }\n",
       "</style>\n",
       "<table border=\"1\" class=\"dataframe\">\n",
       "  <thead>\n",
       "    <tr style=\"text-align: right;\">\n",
       "      <th>SKU</th>\n",
       "      <th>ProductA</th>\n",
       "      <th>ProductB</th>\n",
       "      <th>ProductC</th>\n",
       "    </tr>\n",
       "    <tr>\n",
       "      <th>Season</th>\n",
       "      <th></th>\n",
       "      <th></th>\n",
       "      <th></th>\n",
       "    </tr>\n",
       "  </thead>\n",
       "  <tbody>\n",
       "    <tr>\n",
       "      <th>AUTUMN</th>\n",
       "      <td>7</td>\n",
       "      <td>4</td>\n",
       "      <td>7</td>\n",
       "    </tr>\n",
       "    <tr>\n",
       "      <th>WINTER</th>\n",
       "      <td>4</td>\n",
       "      <td>4</td>\n",
       "      <td>4</td>\n",
       "    </tr>\n",
       "  </tbody>\n",
       "</table>\n",
       "</div>"
      ],
      "text/plain": [
       "SKU     ProductA  ProductB  ProductC\n",
       "Season                              \n",
       "AUTUMN         7         4         7\n",
       "WINTER         4         4         4"
      ]
     },
     "execution_count": 24,
     "metadata": {},
     "output_type": "execute_result"
    }
   ],
   "source": [
    "pivot(test_data,'Season')"
   ]
  },
  {
   "cell_type": "markdown",
   "metadata": {},
   "source": [
    "### Observation : \n",
    "1. Promotions only happening in AUTUMN and WINTER season.\n",
    "2. No statistics found for SPRING and SUMMER season in test data"
   ]
  },
  {
   "cell_type": "markdown",
   "metadata": {},
   "source": [
    "## Checking Outliers"
   ]
  },
  {
   "cell_type": "code",
   "execution_count": 25,
   "metadata": {},
   "outputs": [
    {
     "data": {
      "text/plain": [
       "<matplotlib.axes._subplots.AxesSubplot at 0x7fedf6f3fa50>"
      ]
     },
     "execution_count": 25,
     "metadata": {},
     "output_type": "execute_result"
    },
    {
     "data": {
      "image/png": "[encoded data removed]",
      "text/plain": [
       "<Figure size 432x288 with 1 Axes>"
      ]
     },
     "metadata": {
      "needs_background": "light"
     },
     "output_type": "display_data"
    }
   ],
   "source": [
    "train_data.boxplot()"
   ]
  },
  {
   "cell_type": "code",
   "execution_count": 26,
   "metadata": {},
   "outputs": [
    {
     "name": "stdout",
     "output_type": "stream",
     "text": [
      "No. of outliers in all the fields:  ISO_Week    0\n",
      "SKU         0\n",
      "Sales       1\n",
      "Season      0\n",
      "dtype: int64\n"
     ]
    }
   ],
   "source": [
    "## SEE the number of of outliers \n",
    "\n",
    "Q1 = train_data.quantile(0.25)\n",
    "Q3 = train_data.quantile(0.75)\n",
    "IQR = Q3 - Q1\n",
    "print('No. of outliers in all the fields: ',((train_data < (Q1 - 1.5 * IQR)) | (train_data > (Q3 + 1.5 * IQR))).sum())"
   ]
  },
  {
   "cell_type": "markdown",
   "metadata": {},
   "source": [
    "### Mention the target variable here"
   ]
  },
  {
   "cell_type": "code",
   "execution_count": 27,
   "metadata": {},
   "outputs": [
    {
     "name": "stdout",
     "output_type": "stream",
     "text": [
      "Enter the target variable: Sales\n"
     ]
    }
   ],
   "source": [
    "target = input('Enter the target variable: ')"
   ]
  },
  {
   "cell_type": "markdown",
   "metadata": {},
   "source": [
    "## Data Preprocessing\n",
    "1. __Duplicate values removal__\n",
    "2. Automatically identify __id__ column\n",
    "3. Automatically identify __valid date columns__ and __fetch month,week,year and day features__\n",
    "4. Automatically identify __categorical, text and numerial features and vectorise them separately__.\n",
    "5. __Mising Value Imputation__ : For __Categorical Feature__ with another category= __'unknown'__ and for __Numerical Feature__ it is __'mean'__.\n",
    "6. __Data Cleaning__ for __text features__ detected. \n",
    "7. __Vectorising techniques__ used : For catgorical : __Label Encoding__,  For Text: __TFIDF W2V__,  For Numerical: __StandardScaler__\n",
    "8. __Automatically detect classification and regression problem__"
   ]
  },
  {
   "cell_type": "code",
   "execution_count": 28,
   "metadata": {},
   "outputs": [
    {
     "name": "stderr",
     "output_type": "stream",
     "text": [
      "100%|██████████| 89/89 [00:00<00:00, 31196.14it/s]\n",
      "100%|██████████| 89/89 [00:00<00:00, 24044.64it/s]\n",
      "100%|██████████| 89/89 [00:00<00:00, 14317.23it/s]\n",
      "100%|██████████| 30/30 [00:00<00:00, 8174.44it/s]\n",
      "100%|██████████| 30/30 [00:00<00:00, 13502.43it/s]\n",
      "100%|██████████| 30/30 [00:00<00:00, 12279.61it/s]"
     ]
    },
    {
     "name": "stdout",
     "output_type": "stream",
     "text": [
      "(89, 4) (30, 4)\n",
      "SKU          object\n",
      "ISO_Week     object\n",
      "Sales       float64\n",
      "Season       object\n",
      "dtype: object\n",
      "SKU          object\n",
      "ISO_Week     object\n",
      "Sales       float64\n",
      "Season       object\n",
      "dtype: object\n",
      "Index(['SKU', 'ISO_Week', 'Season'], dtype='object') Index(['SKU', 'ISO_Week', 'Season'], dtype='object')\n",
      "[] []\n",
      "No id column found..  Assigning new id column!\n",
      "['index'] ['index']\n",
      "Numerical features:  ['index']\n",
      "Text features detected:  []\n",
      "Categorical Features :  ['cleanSKU', 'cleanISO_Week', 'cleanSeason']\n"
     ]
    },
    {
     "name": "stderr",
     "output_type": "stream",
     "text": [
      "\n"
     ]
    }
   ],
   "source": [
    "X_train,X_test,y_train,y_test,id_for_later_use,id_= preprocessor(train_data,test_data,target)"
   ]
  },
  {
   "cell_type": "markdown",
   "metadata": {},
   "source": [
    "## Model Building, Training and Testing"
   ]
  },
  {
   "cell_type": "markdown",
   "metadata": {},
   "source": [
    "1. __Giving choice to compare from a list of models__ , or\n",
    "2. __Choosing and Tuning your own specific model of choice.__\n",
    "3. __Automatically detect CLASSIFICATION and REGRESSION problem and choose model accordingly__\n",
    "3. Saving trained and tuned model to folder : __saved_models__\n",
    "4. Saving prediction to a folder: __upload-aiml-automation__"
   ]
  },
  {
   "cell_type": "code",
   "execution_count": 29,
   "metadata": {},
   "outputs": [
    {
     "name": "stdout",
     "output_type": "stream",
     "text": [
      "Compare models or Choose specific model[Type: compare/choose]:  choose\n"
     ]
    }
   ],
   "source": [
    "option = input('Compare models or Choose specific model[Type: compare/choose]:  ')"
   ]
  },
  {
   "cell_type": "code",
   "execution_count": 30,
   "metadata": {
    "scrolled": true
   },
   "outputs": [
    {
     "name": "stdout",
     "output_type": "stream",
     "text": [
      "Choose your estimator : rf\n",
      "False\n",
      "False\n",
      "False\n",
      "True\n",
      "regression\n",
      "Declaring metric variables\n",
      "Importing untrained model\n",
      "Random Forest Regressor Imported succesfully\n",
      "Checking ensemble method\n",
      "Initializing Fold 1\n",
      "Fitting model:  RandomForestRegressor(n_jobs=-1, random_state=10)\n",
      "Evaluating Metrics\n",
      "Compiling Metrics\n",
      "Initializing Fold 2\n",
      "Fitting model:  RandomForestRegressor(n_jobs=-1, random_state=10)\n",
      "Evaluating Metrics\n",
      "Compiling Metrics\n",
      "Initializing Fold 3\n",
      "Fitting model:  RandomForestRegressor(n_jobs=-1, random_state=10)\n",
      "Evaluating Metrics\n",
      "Compiling Metrics\n",
      "Initializing Fold 4\n",
      "Fitting model:  RandomForestRegressor(n_jobs=-1, random_state=10)\n",
      "Evaluating Metrics\n",
      "Compiling Metrics\n",
      "Initializing Fold 5\n",
      "Fitting model:  RandomForestRegressor(n_jobs=-1, random_state=10)\n",
      "Evaluating Metrics\n",
      "Compiling Metrics\n",
      "Initializing Fold 6\n",
      "Fitting model:  RandomForestRegressor(n_jobs=-1, random_state=10)\n",
      "Evaluating Metrics\n",
      "Compiling Metrics\n",
      "Initializing Fold 7\n",
      "Fitting model:  RandomForestRegressor(n_jobs=-1, random_state=10)\n",
      "Evaluating Metrics\n",
      "Compiling Metrics\n",
      "Initializing Fold 8\n",
      "Fitting model:  RandomForestRegressor(n_jobs=-1, random_state=10)\n",
      "Evaluating Metrics\n",
      "Compiling Metrics\n",
      "Initializing Fold 9\n",
      "Fitting model:  RandomForestRegressor(n_jobs=-1, random_state=10)\n",
      "Evaluating Metrics\n",
      "Compiling Metrics\n",
      "Initializing Fold 10\n",
      "Fitting model:  RandomForestRegressor(n_jobs=-1, random_state=10)\n",
      "Evaluating Metrics\n",
      "Compiling Metrics\n",
      "Calculating mean and std\n",
      "Creating metrics dataframe per fold\n",
      "            MAE           MSE        RMSE        R2   RMSLE\n",
      "0     2654.8156  9.375233e+06   3061.9003   -0.4756  0.4488\n",
      "1     1687.5967  5.344472e+06   2311.8113    0.0763  0.3391\n",
      "2     2040.5278  6.876701e+06   2622.3465    0.1507  0.4681\n",
      "3     1056.3556  1.846560e+06   1358.8817    0.6709  2.0628\n",
      "4      305.0111  1.574014e+05    396.7385   -5.3879  1.0383\n",
      "5     1237.0433  1.877341e+06   1370.1610 -118.4106  1.8873\n",
      "6      978.0244  1.686487e+06   1298.6483    0.7846  1.9343\n",
      "7     4173.9233  2.214567e+07   4705.9182    0.2925  2.6614\n",
      "8     5359.9678  1.905223e+08  13802.9811   -0.0981  0.5154\n",
      "9     6703.7425  5.900672e+07   7681.5832   -3.1464  0.9510\n",
      "Mean  2619.7008  2.988389e+07   3861.0970  -12.5544  1.2307\n",
      "SD    2005.4486  5.613738e+07   3869.8600   35.3345  0.7925\n",
      "Finalising Model  \n",
      "Model is finalised !! \n",
      "Initialising Model Tuning...\n",
      "False\n",
      "False\n",
      "False\n",
      "True\n",
      "regression\n",
      "Defining folds\n",
      "Declaring metric variables\n",
      "Defining Hyperparameters\n",
      "Initializing RandomizedSearchCV\n",
      "Random search completed\n",
      "Initializing Fold 1\n",
      "Fitting model:  RandomForestRegressor(bootstrap=False, criterion='mae', max_depth=110,\n",
      "                      n_estimators=290, n_jobs=-1, random_state=10)\n",
      "Evaluating Metrics\n",
      "Compiling Metrics\n",
      "Initializing Fold 2\n",
      "Fitting model:  RandomForestRegressor(bootstrap=False, criterion='mae', max_depth=110,\n",
      "                      n_estimators=290, n_jobs=-1, random_state=10)\n",
      "Evaluating Metrics\n",
      "Compiling Metrics\n",
      "Initializing Fold 3\n",
      "Fitting model:  RandomForestRegressor(bootstrap=False, criterion='mae', max_depth=110,\n",
      "                      n_estimators=290, n_jobs=-1, random_state=10)\n",
      "Evaluating Metrics\n",
      "Compiling Metrics\n",
      "Initializing Fold 4\n",
      "Fitting model:  RandomForestRegressor(bootstrap=False, criterion='mae', max_depth=110,\n",
      "                      n_estimators=290, n_jobs=-1, random_state=10)\n",
      "Evaluating Metrics\n",
      "Compiling Metrics\n",
      "Initializing Fold 5\n",
      "Fitting model:  RandomForestRegressor(bootstrap=False, criterion='mae', max_depth=110,\n",
      "                      n_estimators=290, n_jobs=-1, random_state=10)\n",
      "Evaluating Metrics\n",
      "Compiling Metrics\n",
      "Initializing Fold 6\n",
      "Fitting model:  RandomForestRegressor(bootstrap=False, criterion='mae', max_depth=110,\n",
      "                      n_estimators=290, n_jobs=-1, random_state=10)\n",
      "Evaluating Metrics\n",
      "Compiling Metrics\n",
      "Initializing Fold 7\n",
      "Fitting model:  RandomForestRegressor(bootstrap=False, criterion='mae', max_depth=110,\n",
      "                      n_estimators=290, n_jobs=-1, random_state=10)\n",
      "Evaluating Metrics\n",
      "Compiling Metrics\n",
      "Initializing Fold 8\n",
      "Fitting model:  RandomForestRegressor(bootstrap=False, criterion='mae', max_depth=110,\n",
      "                      n_estimators=290, n_jobs=-1, random_state=10)\n",
      "Evaluating Metrics\n",
      "Compiling Metrics\n",
      "Initializing Fold 9\n",
      "Fitting model:  RandomForestRegressor(bootstrap=False, criterion='mae', max_depth=110,\n",
      "                      n_estimators=290, n_jobs=-1, random_state=10)\n",
      "Evaluating Metrics\n",
      "Compiling Metrics\n",
      "Initializing Fold 10\n",
      "Fitting model:  RandomForestRegressor(bootstrap=False, criterion='mae', max_depth=110,\n",
      "                      n_estimators=290, n_jobs=-1, random_state=10)\n",
      "Evaluating Metrics\n",
      "Compiling Metrics\n",
      "Calculating mean and std\n",
      "Creating metrics dataframe per fold\n",
      "            MAE           MSE        RMSE      R2   RMSLE\n",
      "0     3253.6667  1.506074e+07   3880.8167 -1.3704  0.5150\n",
      "1     1906.0506  8.417855e+06   2901.3540 -0.4549  0.3649\n",
      "2     2065.5556  6.776980e+06   2603.2634  0.1630  0.5644\n",
      "3      989.7778  1.469614e+06   1212.2762  0.7381  2.0666\n",
      "4      153.4444  3.750856e+04    193.6713 -0.5222  0.7738\n",
      "5      151.2981  3.431560e+04    185.2447 -1.1827  0.8268\n",
      "6      420.5556  3.224128e+05    567.8140  0.9588  2.1653\n",
      "7     4326.2222  2.329089e+07   4826.0638  0.2559  2.6158\n",
      "8     5461.4444  1.866400e+08  13661.6258 -0.0758  0.5106\n",
      "9     4063.3750  2.980274e+07   5459.1883 -1.0942  0.7859\n",
      "Mean  2279.1390  2.718531e+07   3549.1318 -0.2584  1.1189\n",
      "SD    1811.0412  5.405612e+07   3819.5511  0.7647  0.7848\n",
      "Finalising Model  \n",
      "Model is finalised !! \n",
      "Model Tuning Complete...\n",
      "Saving Tuned Model...\n",
      "         SKU ISO_Week      Forecast\n",
      "0   ProductA  2018-42   6988.000000\n",
      "1   ProductA  2018-43   6743.000000\n",
      "2   ProductA  2018-44   4112.000000\n",
      "3   ProductA  2018-45   5650.272414\n",
      "4   ProductA  2018-46   5650.272414\n",
      "5   ProductA  2018-47   5559.000000\n",
      "6   ProductA  2018-48   5381.000000\n",
      "7   ProductA  2018-49  11709.000000\n",
      "8   ProductA  2018-50  10410.000000\n",
      "9   ProductA  2018-51  10211.000000\n",
      "10  ProductA  2018-52  10378.000000\n",
      "11  ProductB  2018-42    -23.000000\n",
      "12  ProductB  2018-46    495.000000\n",
      "13  ProductB  2018-47    495.000000\n",
      "14  ProductB  2018-48    278.000000\n",
      "15  ProductB  2018-49    316.000000\n",
      "16  ProductB  2018-50    -50.000000\n",
      "17  ProductB  2018-51    -50.000000\n",
      "18  ProductB  2018-52    -50.000000\n",
      "19  ProductC  2018-42   5495.000000\n",
      "20  ProductC  2018-43   5495.000000\n",
      "21  ProductC  2018-44   5495.000000\n",
      "22  ProductC  2018-45   5495.000000\n",
      "23  ProductC  2018-46   5495.000000\n",
      "24  ProductC  2018-47   5495.000000\n",
      "25  ProductC  2018-48   5495.000000\n",
      "26  ProductC  2018-49   5495.000000\n",
      "27  ProductC  2018-50   6330.000000\n",
      "28  ProductC  2018-51   6144.000000\n",
      "29  ProductC  2018-52   6383.000000\n",
      "Regression Results : \n",
      "           MAE           MSE         RMSE        R2    RMSLE\n",
      "0  2941.133333  1.624034e+07  4029.930859  0.441988  2.47678\n"
     ]
    }
   ],
   "source": [
    "if option == 'compare':\n",
    "        df,ml_usecase = compare_models(X_train,X_test,y_train,y_test)\n",
    "        if ml_usecase=='regression':\n",
    "            df_styled = df.style.highlight_min()\n",
    "            minValue = df['RMSE'].min()\n",
    "            newdf = df[df.RMSE == minValue]\n",
    "            modeldf = newdf['Model']\n",
    "            for i in modeldf:\n",
    "                wanted_model = i\n",
    "            print(wanted_model)\n",
    "            print('*'*50)\n",
    "            print(df)\n",
    "        else:\n",
    "            df_styled = df.style.highlight_max()\n",
    "            maxValue = df['Accuracy'].max()\n",
    "            newdf = df[df.Accuracy == maxValue]\n",
    "            modeldf = newdf['Model']\n",
    "            for i in modeldf:\n",
    "                wanted_model = i\n",
    "            print(wanted_model)\n",
    "            print('*'*50)\n",
    "            print(df)\n",
    "\n",
    "else:\n",
    "    import sklearn.metrics as metrics\n",
    "    estimator = input('Choose your estimator : ')\n",
    "    model_chosen , model_results= choose_models(X_train,X_test,y_train,y_test,estimator)\n",
    "\n",
    "    print('Initialising Model Tuning...')\n",
    "    best_model,model_results_tuned ,ml_usecase= tune_models(X_train,X_test,y_train,y_test,model_chosen)\n",
    "\n",
    "    print('Model Tuning Complete...')\n",
    "\n",
    "    print('Saving Tuned Model...')\n",
    "    model_export_filename = './saved_models/'+estimator+'_tuned_model_'+dt_string+'.pkl'\n",
    "    save_model(best_model,model_export_filename)\n",
    "\n",
    "\n",
    "    tuned_model_loaded = load_model(model_export_filename)\n",
    "    predictions = tuned_model_loaded.predict(X_test)\n",
    "    predictions_df = pd.DataFrame(predictions, columns =['Forecast'])\n",
    "    predictions_df['ISO_Week'] = iso_week\n",
    "    predictions_df['SKU'] = skus\n",
    "    predictions_df = predictions_df[['SKU','ISO_Week','Forecast']]\n",
    "    print(predictions_df)\n",
    "\n",
    "    pred_filename = 'prediction_'+dt_string+'.csv'\n",
    "    predictions_df.to_csv('./upload-aiml-automation/prediction_'+estimator+'_'+dt_string+'.csv')\n",
    "\n",
    "    if ml_usecase == 'regression':\n",
    "        #Final results\n",
    "        mae = metrics.mean_absolute_error(y_test,predictions)\n",
    "        mse = metrics.mean_squared_error(y_test,predictions)\n",
    "        rmse = np.sqrt(mse)\n",
    "        rmsle = np.sqrt(np.mean(np.power(np.log(np.array(abs(predictions))+1) - np.log(np.array(abs(y_test))+1), 2)))\n",
    "        r2 = metrics.r2_score(y_test,predictions)\n",
    "        final_model_results = pd.DataFrame({'MAE': [mae], 'MSE': [mse], 'RMSE' : [rmse], 'R2' : [r2],'RMSLE' : [rmsle]})\n",
    "        print('Regression Results : ')\n",
    "        print(final_model_results)\n",
    "    else:\n",
    "        #Final results\n",
    "        if hasattr(tuned_model_loaded, 'predict_proba'):\n",
    "\n",
    "            pred_prob = tuned_model_loaded.predict_proba(X_test)\n",
    "            pred_prob = pred_prob[:,1]\n",
    "            sca = metrics.accuracy_score(y_test,predictions)\n",
    "            #if tr_target_pr.value_counts().count() > 2  implies Multiclass\n",
    "            if y_train.value_counts().count() > 2:\n",
    "                sc = 0\n",
    "                recall = metrics.recall_score(y_test,predictions, average='macro')\n",
    "                precision = metrics.precision_score(y_test,predictions, average = 'weighted')\n",
    "                f1 = metrics.f1_score(y_test,predictions, average='weighted')\n",
    "            else:\n",
    "                try:\n",
    "                    sc = metrics.roc_auc_score(y_test,pred_prob)\n",
    "                except:\n",
    "                    sc = 0\n",
    "                    print(\"model has no predict_proba attribute. AUC set to 0.00\")\n",
    "                recall = metrics.recall_score(y_test,predictions)\n",
    "                precision = metrics.precision_score(y_test,predictions)\n",
    "                f1 = metrics.f1_score(y_test,predictions)\n",
    "        else:\n",
    "\n",
    "            pred_prob = 0.00\n",
    "            sca = metrics.accuracy_score(y_test,predictions)\n",
    "            if y_train.value_counts().count() > 2:\n",
    "                sc = 0\n",
    "                recall = metrics.recall_score(y_test,predictions, average='macro')\n",
    "                precision = metrics.precision_score(y_test,predictions, average = 'weighted')\n",
    "                f1 = metrics.f1_score(y_test,predictions, average='weighted')\n",
    "            else:\n",
    "                try:\n",
    "                    sc = metrics.roc_auc_score(y_test,pred_prob)\n",
    "                except:\n",
    "                    sc = 0\n",
    "                    print(\"model has no predict_proba attribute. AUC set to 0.00\")\n",
    "                recall = metrics.recall_score(y_test,predictions)\n",
    "                precision = metrics.precision_score(y_test,predictions)\n",
    "                f1 = metrics.f1_score(y_test,predictions)\n",
    "        mcc = metrics.matthews_corrcoef(y_test,predictions)\n",
    "        kappa = metrics.cohen_kappa_score(y_test,predictions)\n",
    "        final_model_results = pd.DataFrame({'Accuracy':[sca], 'AUC': [sc], 'Recall': [recall],'Prec.': [precision], 'F1': [f1], 'Kappa': [kappa], 'MCC':[mcc]})\n",
    "        print('Classification Results : ')\n",
    "        print(final_model_results)\n",
    "\n",
    "\n"
   ]
  },
  {
   "cell_type": "markdown",
   "metadata": {},
   "source": [
    "## Conclusion : \n",
    "1. The code is fully automated for both classification and regression tasks.\n",
    "2. Performed: EDA, Initial zero removal, Duplicate treatment, Outlier detection ,  Data Preprocessing , Model Building,Code Automation.\n",
    "3. Data is small so purposely didn't use Deep Learning since MLP's and advanced Algorithms are data hungry.\n",
    "4. Larger training data can help in better results.\n",
    "\n",
    "### Results:\n",
    "- RandomForestRegressor worked best for this dataset"
   ]
  },
  {
   "cell_type": "code",
   "execution_count": null,
   "metadata": {},
   "outputs": [],
   "source": []
  }
 ],
 "metadata": {
  "kernelspec": {
   "display_name": "Python 3",
   "language": "python",
   "name": "python3"
  },
  "language_info": {
   "codemirror_mode": {
    "name": "ipython",
    "version": 3
   },
   "file_extension": ".py",
   "mimetype": "text/x-python",
   "name": "python",
   "nbconvert_exporter": "python",
   "pygments_lexer": "ipython3",
   "version": "3.7.4"
  }
 },
 "nbformat": 4,
 "nbformat_minor": 2
}
